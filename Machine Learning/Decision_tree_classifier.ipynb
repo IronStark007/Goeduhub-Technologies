{
 "cells": [
  {
   "cell_type": "markdown",
   "metadata": {},
   "source": [
    "#### Titanic Survived\n",
    "The dataset contains details of the passenger and how many are survived in titanic. \n",
    "\n",
    "We will train our model using Decision tree to predict the survival state of a person.\n",
    "\n",
    "For dataset-<a href=\"https://github.com/IronStark007/Datasets/blob/main/titanic.csv\">Click here.</a>\n",
    "\n",
    "#### Prepossing the data"
   ]
  },
  {
   "cell_type": "code",
   "execution_count": 1,
   "metadata": {},
   "outputs": [],
   "source": [
    "#importing necessary modules for prepossessing the data & analysis\n",
    "import pandas as pd \n",
    "import numpy as np"
   ]
  },
  {
   "cell_type": "code",
   "execution_count": 2,
   "metadata": {},
   "outputs": [
    {
     "data": {
      "text/html": [
       "<div>\n",
       "<style scoped>\n",
       "    .dataframe tbody tr th:only-of-type {\n",
       "        vertical-align: middle;\n",
       "    }\n",
       "\n",
       "    .dataframe tbody tr th {\n",
       "        vertical-align: top;\n",
       "    }\n",
       "\n",
       "    .dataframe thead th {\n",
       "        text-align: right;\n",
       "    }\n",
       "</style>\n",
       "<table border=\"1\" class=\"dataframe\">\n",
       "  <thead>\n",
       "    <tr style=\"text-align: right;\">\n",
       "      <th></th>\n",
       "      <th>PassengerId</th>\n",
       "      <th>Survived</th>\n",
       "      <th>Pclass</th>\n",
       "      <th>Name</th>\n",
       "      <th>Sex</th>\n",
       "      <th>Age</th>\n",
       "      <th>SibSp</th>\n",
       "      <th>Parch</th>\n",
       "      <th>Ticket</th>\n",
       "      <th>Fare</th>\n",
       "      <th>Cabin</th>\n",
       "      <th>Embarked</th>\n",
       "    </tr>\n",
       "  </thead>\n",
       "  <tbody>\n",
       "    <tr>\n",
       "      <th>0</th>\n",
       "      <td>1</td>\n",
       "      <td>0</td>\n",
       "      <td>3</td>\n",
       "      <td>Braund, Mr. Owen Harris</td>\n",
       "      <td>male</td>\n",
       "      <td>22.0</td>\n",
       "      <td>1</td>\n",
       "      <td>0</td>\n",
       "      <td>A/5 21171</td>\n",
       "      <td>7.2500</td>\n",
       "      <td>NaN</td>\n",
       "      <td>S</td>\n",
       "    </tr>\n",
       "    <tr>\n",
       "      <th>1</th>\n",
       "      <td>2</td>\n",
       "      <td>1</td>\n",
       "      <td>1</td>\n",
       "      <td>Cumings, Mrs. John Bradley (Florence Briggs Th...</td>\n",
       "      <td>female</td>\n",
       "      <td>38.0</td>\n",
       "      <td>1</td>\n",
       "      <td>0</td>\n",
       "      <td>PC 17599</td>\n",
       "      <td>71.2833</td>\n",
       "      <td>C85</td>\n",
       "      <td>C</td>\n",
       "    </tr>\n",
       "    <tr>\n",
       "      <th>2</th>\n",
       "      <td>3</td>\n",
       "      <td>1</td>\n",
       "      <td>3</td>\n",
       "      <td>Heikkinen, Miss. Laina</td>\n",
       "      <td>female</td>\n",
       "      <td>26.0</td>\n",
       "      <td>0</td>\n",
       "      <td>0</td>\n",
       "      <td>STON/O2. 3101282</td>\n",
       "      <td>7.9250</td>\n",
       "      <td>NaN</td>\n",
       "      <td>S</td>\n",
       "    </tr>\n",
       "    <tr>\n",
       "      <th>3</th>\n",
       "      <td>4</td>\n",
       "      <td>1</td>\n",
       "      <td>1</td>\n",
       "      <td>Futrelle, Mrs. Jacques Heath (Lily May Peel)</td>\n",
       "      <td>female</td>\n",
       "      <td>35.0</td>\n",
       "      <td>1</td>\n",
       "      <td>0</td>\n",
       "      <td>113803</td>\n",
       "      <td>53.1000</td>\n",
       "      <td>C123</td>\n",
       "      <td>S</td>\n",
       "    </tr>\n",
       "    <tr>\n",
       "      <th>4</th>\n",
       "      <td>5</td>\n",
       "      <td>0</td>\n",
       "      <td>3</td>\n",
       "      <td>Allen, Mr. William Henry</td>\n",
       "      <td>male</td>\n",
       "      <td>35.0</td>\n",
       "      <td>0</td>\n",
       "      <td>0</td>\n",
       "      <td>373450</td>\n",
       "      <td>8.0500</td>\n",
       "      <td>NaN</td>\n",
       "      <td>S</td>\n",
       "    </tr>\n",
       "  </tbody>\n",
       "</table>\n",
       "</div>"
      ],
      "text/plain": [
       "   PassengerId  Survived  Pclass  \\\n",
       "0            1         0       3   \n",
       "1            2         1       1   \n",
       "2            3         1       3   \n",
       "3            4         1       1   \n",
       "4            5         0       3   \n",
       "\n",
       "                                                Name     Sex   Age  SibSp  \\\n",
       "0                            Braund, Mr. Owen Harris    male  22.0      1   \n",
       "1  Cumings, Mrs. John Bradley (Florence Briggs Th...  female  38.0      1   \n",
       "2                             Heikkinen, Miss. Laina  female  26.0      0   \n",
       "3       Futrelle, Mrs. Jacques Heath (Lily May Peel)  female  35.0      1   \n",
       "4                           Allen, Mr. William Henry    male  35.0      0   \n",
       "\n",
       "   Parch            Ticket     Fare Cabin Embarked  \n",
       "0      0         A/5 21171   7.2500   NaN        S  \n",
       "1      0          PC 17599  71.2833   C85        C  \n",
       "2      0  STON/O2. 3101282   7.9250   NaN        S  \n",
       "3      0            113803  53.1000  C123        S  \n",
       "4      0            373450   8.0500   NaN        S  "
      ]
     },
     "execution_count": 2,
     "metadata": {},
     "output_type": "execute_result"
    }
   ],
   "source": [
    "# loading the dataset using pandas\n",
    "df=pd.read_csv(r'C:/Users/ansar/Downloads/titanic.csv')\n",
    "\n",
    "# reading first five rows of the dataset for better understanding\n",
    "df.head()"
   ]
  },
  {
   "cell_type": "markdown",
   "metadata": {},
   "source": [
    "The dataset contains many columns which we do not need during our model training like PassengerId, Name, Sibsp, Parch, Ticket, Cabin, Embarked. So we will simply drop all these columns.\n",
    "\n",
    "Our independent columns are - Survived, Sex, Age, Fare\n",
    "and dependent column is - Survival"
   ]
  },
  {
   "cell_type": "code",
   "execution_count": 3,
   "metadata": {},
   "outputs": [
    {
     "data": {
      "text/html": [
       "<div>\n",
       "<style scoped>\n",
       "    .dataframe tbody tr th:only-of-type {\n",
       "        vertical-align: middle;\n",
       "    }\n",
       "\n",
       "    .dataframe tbody tr th {\n",
       "        vertical-align: top;\n",
       "    }\n",
       "\n",
       "    .dataframe thead th {\n",
       "        text-align: right;\n",
       "    }\n",
       "</style>\n",
       "<table border=\"1\" class=\"dataframe\">\n",
       "  <thead>\n",
       "    <tr style=\"text-align: right;\">\n",
       "      <th></th>\n",
       "      <th>Survived</th>\n",
       "      <th>Pclass</th>\n",
       "      <th>Sex</th>\n",
       "      <th>Age</th>\n",
       "      <th>Fare</th>\n",
       "    </tr>\n",
       "  </thead>\n",
       "  <tbody>\n",
       "    <tr>\n",
       "      <th>0</th>\n",
       "      <td>0</td>\n",
       "      <td>3</td>\n",
       "      <td>male</td>\n",
       "      <td>22.0</td>\n",
       "      <td>7.2500</td>\n",
       "    </tr>\n",
       "    <tr>\n",
       "      <th>1</th>\n",
       "      <td>1</td>\n",
       "      <td>1</td>\n",
       "      <td>female</td>\n",
       "      <td>38.0</td>\n",
       "      <td>71.2833</td>\n",
       "    </tr>\n",
       "    <tr>\n",
       "      <th>2</th>\n",
       "      <td>1</td>\n",
       "      <td>3</td>\n",
       "      <td>female</td>\n",
       "      <td>26.0</td>\n",
       "      <td>7.9250</td>\n",
       "    </tr>\n",
       "    <tr>\n",
       "      <th>3</th>\n",
       "      <td>1</td>\n",
       "      <td>1</td>\n",
       "      <td>female</td>\n",
       "      <td>35.0</td>\n",
       "      <td>53.1000</td>\n",
       "    </tr>\n",
       "    <tr>\n",
       "      <th>4</th>\n",
       "      <td>0</td>\n",
       "      <td>3</td>\n",
       "      <td>male</td>\n",
       "      <td>35.0</td>\n",
       "      <td>8.0500</td>\n",
       "    </tr>\n",
       "  </tbody>\n",
       "</table>\n",
       "</div>"
      ],
      "text/plain": [
       "   Survived  Pclass     Sex   Age     Fare\n",
       "0         0       3    male  22.0   7.2500\n",
       "1         1       1  female  38.0  71.2833\n",
       "2         1       3  female  26.0   7.9250\n",
       "3         1       1  female  35.0  53.1000\n",
       "4         0       3    male  35.0   8.0500"
      ]
     },
     "execution_count": 3,
     "metadata": {},
     "output_type": "execute_result"
    }
   ],
   "source": [
    "#drop unnessary columns from the dataset\n",
    "df=df.drop(labels=['PassengerId', 'Name', 'SibSp', 'Parch', 'Ticket', 'Cabin', 'Embarked'],axis=1)\n",
    "\n",
    "#checking the dataset after dropping\n",
    "df.head()"
   ]
  },
  {
   "cell_type": "code",
   "execution_count": 4,
   "metadata": {},
   "outputs": [
    {
     "name": "stdout",
     "output_type": "stream",
     "text": [
      "<class 'pandas.core.frame.DataFrame'>\n",
      "RangeIndex: 891 entries, 0 to 890\n",
      "Data columns (total 5 columns):\n",
      " #   Column    Non-Null Count  Dtype  \n",
      "---  ------    --------------  -----  \n",
      " 0   Survived  891 non-null    int64  \n",
      " 1   Pclass    891 non-null    int64  \n",
      " 2   Sex       891 non-null    object \n",
      " 3   Age       714 non-null    float64\n",
      " 4   Fare      891 non-null    float64\n",
      "dtypes: float64(2), int64(2), object(1)\n",
      "memory usage: 34.9+ KB\n"
     ]
    }
   ],
   "source": [
    "#checking the info about the dataset\n",
    "df.info()"
   ]
  },
  {
   "cell_type": "markdown",
   "metadata": {},
   "source": [
    "Since from 891 entries only age column has some null values present in it So we have to fill the null value by mean,median, mode or by zero or by simply dropping the rows which contains null values\n",
    "\n",
    "And also the sex column is categorical column so we can change it to numerical column by passing 1 for Male and 0 for Female"
   ]
  },
  {
   "cell_type": "code",
   "execution_count": 5,
   "metadata": {},
   "outputs": [
    {
     "data": {
      "text/html": [
       "<div>\n",
       "<style scoped>\n",
       "    .dataframe tbody tr th:only-of-type {\n",
       "        vertical-align: middle;\n",
       "    }\n",
       "\n",
       "    .dataframe tbody tr th {\n",
       "        vertical-align: top;\n",
       "    }\n",
       "\n",
       "    .dataframe thead th {\n",
       "        text-align: right;\n",
       "    }\n",
       "</style>\n",
       "<table border=\"1\" class=\"dataframe\">\n",
       "  <thead>\n",
       "    <tr style=\"text-align: right;\">\n",
       "      <th></th>\n",
       "      <th>Survived</th>\n",
       "      <th>Pclass</th>\n",
       "      <th>Sex</th>\n",
       "      <th>Age</th>\n",
       "      <th>Fare</th>\n",
       "    </tr>\n",
       "  </thead>\n",
       "  <tbody>\n",
       "    <tr>\n",
       "      <th>count</th>\n",
       "      <td>891.000000</td>\n",
       "      <td>891.000000</td>\n",
       "      <td>891</td>\n",
       "      <td>714.000000</td>\n",
       "      <td>891.000000</td>\n",
       "    </tr>\n",
       "    <tr>\n",
       "      <th>unique</th>\n",
       "      <td>NaN</td>\n",
       "      <td>NaN</td>\n",
       "      <td>2</td>\n",
       "      <td>NaN</td>\n",
       "      <td>NaN</td>\n",
       "    </tr>\n",
       "    <tr>\n",
       "      <th>top</th>\n",
       "      <td>NaN</td>\n",
       "      <td>NaN</td>\n",
       "      <td>male</td>\n",
       "      <td>NaN</td>\n",
       "      <td>NaN</td>\n",
       "    </tr>\n",
       "    <tr>\n",
       "      <th>freq</th>\n",
       "      <td>NaN</td>\n",
       "      <td>NaN</td>\n",
       "      <td>577</td>\n",
       "      <td>NaN</td>\n",
       "      <td>NaN</td>\n",
       "    </tr>\n",
       "    <tr>\n",
       "      <th>mean</th>\n",
       "      <td>0.383838</td>\n",
       "      <td>2.308642</td>\n",
       "      <td>NaN</td>\n",
       "      <td>29.699118</td>\n",
       "      <td>32.204208</td>\n",
       "    </tr>\n",
       "    <tr>\n",
       "      <th>std</th>\n",
       "      <td>0.486592</td>\n",
       "      <td>0.836071</td>\n",
       "      <td>NaN</td>\n",
       "      <td>14.526497</td>\n",
       "      <td>49.693429</td>\n",
       "    </tr>\n",
       "    <tr>\n",
       "      <th>min</th>\n",
       "      <td>0.000000</td>\n",
       "      <td>1.000000</td>\n",
       "      <td>NaN</td>\n",
       "      <td>0.420000</td>\n",
       "      <td>0.000000</td>\n",
       "    </tr>\n",
       "    <tr>\n",
       "      <th>25%</th>\n",
       "      <td>0.000000</td>\n",
       "      <td>2.000000</td>\n",
       "      <td>NaN</td>\n",
       "      <td>20.125000</td>\n",
       "      <td>7.910400</td>\n",
       "    </tr>\n",
       "    <tr>\n",
       "      <th>50%</th>\n",
       "      <td>0.000000</td>\n",
       "      <td>3.000000</td>\n",
       "      <td>NaN</td>\n",
       "      <td>28.000000</td>\n",
       "      <td>14.454200</td>\n",
       "    </tr>\n",
       "    <tr>\n",
       "      <th>75%</th>\n",
       "      <td>1.000000</td>\n",
       "      <td>3.000000</td>\n",
       "      <td>NaN</td>\n",
       "      <td>38.000000</td>\n",
       "      <td>31.000000</td>\n",
       "    </tr>\n",
       "    <tr>\n",
       "      <th>max</th>\n",
       "      <td>1.000000</td>\n",
       "      <td>3.000000</td>\n",
       "      <td>NaN</td>\n",
       "      <td>80.000000</td>\n",
       "      <td>512.329200</td>\n",
       "    </tr>\n",
       "  </tbody>\n",
       "</table>\n",
       "</div>"
      ],
      "text/plain": [
       "          Survived      Pclass   Sex         Age        Fare\n",
       "count   891.000000  891.000000   891  714.000000  891.000000\n",
       "unique         NaN         NaN     2         NaN         NaN\n",
       "top            NaN         NaN  male         NaN         NaN\n",
       "freq           NaN         NaN   577         NaN         NaN\n",
       "mean      0.383838    2.308642   NaN   29.699118   32.204208\n",
       "std       0.486592    0.836071   NaN   14.526497   49.693429\n",
       "min       0.000000    1.000000   NaN    0.420000    0.000000\n",
       "25%       0.000000    2.000000   NaN   20.125000    7.910400\n",
       "50%       0.000000    3.000000   NaN   28.000000   14.454200\n",
       "75%       1.000000    3.000000   NaN   38.000000   31.000000\n",
       "max       1.000000    3.000000   NaN   80.000000  512.329200"
      ]
     },
     "execution_count": 5,
     "metadata": {},
     "output_type": "execute_result"
    }
   ],
   "source": [
    "#checking the statistics of the dataset\n",
    "df.describe(include='all')"
   ]
  },
  {
   "cell_type": "markdown",
   "metadata": {},
   "source": [
    "So the Age column has mean=30 and median = 28. We can choose either of these to fill the null values "
   ]
  },
  {
   "cell_type": "code",
   "execution_count": 6,
   "metadata": {},
   "outputs": [
    {
     "data": {
      "text/plain": [
       "0      False\n",
       "1      False\n",
       "2      False\n",
       "3      False\n",
       "4      False\n",
       "       ...  \n",
       "886    False\n",
       "887    False\n",
       "888    False\n",
       "889    False\n",
       "890    False\n",
       "Name: Age, Length: 891, dtype: bool"
      ]
     },
     "execution_count": 6,
     "metadata": {},
     "output_type": "execute_result"
    }
   ],
   "source": [
    "#Filling the Age null values with its median\n",
    "df['Age'].fillna(value=28,inplace=True)\n",
    "\n",
    "# Checking again the operation done or not\n",
    "df['Age'].isnull()"
   ]
  },
  {
   "cell_type": "markdown",
   "metadata": {},
   "source": [
    "Now we have to Convert Sex column into numerical "
   ]
  },
  {
   "cell_type": "code",
   "execution_count": 7,
   "metadata": {},
   "outputs": [
    {
     "data": {
      "text/plain": [
       "male      577\n",
       "female    314\n",
       "Name: Sex, dtype: int64"
      ]
     },
     "execution_count": 7,
     "metadata": {},
     "output_type": "execute_result"
    }
   ],
   "source": [
    "#checking the values in Sex\n",
    "df['Sex'].value_counts()"
   ]
  },
  {
   "cell_type": "code",
   "execution_count": 8,
   "metadata": {},
   "outputs": [],
   "source": [
    "#conditional formatting\n",
    "for i in df['Sex']:\n",
    "    if i=='male':\n",
    "        df['Sex'].replace('male',1,inplace=True)\n",
    "    else:\n",
    "        df['Sex'].replace('female',0,inplace=True)"
   ]
  },
  {
   "cell_type": "code",
   "execution_count": 9,
   "metadata": {},
   "outputs": [
    {
     "data": {
      "text/plain": [
       "1    577\n",
       "0    314\n",
       "Name: Sex, dtype: int64"
      ]
     },
     "execution_count": 9,
     "metadata": {},
     "output_type": "execute_result"
    }
   ],
   "source": [
    "#checking the column\n",
    "df['Sex'].value_counts()"
   ]
  },
  {
   "cell_type": "code",
   "execution_count": 10,
   "metadata": {},
   "outputs": [
    {
     "name": "stdout",
     "output_type": "stream",
     "text": [
      "<class 'pandas.core.frame.DataFrame'>\n",
      "RangeIndex: 891 entries, 0 to 890\n",
      "Data columns (total 5 columns):\n",
      " #   Column    Non-Null Count  Dtype  \n",
      "---  ------    --------------  -----  \n",
      " 0   Survived  891 non-null    int64  \n",
      " 1   Pclass    891 non-null    int64  \n",
      " 2   Sex       891 non-null    int64  \n",
      " 3   Age       891 non-null    float64\n",
      " 4   Fare      891 non-null    float64\n",
      "dtypes: float64(2), int64(3)\n",
      "memory usage: 34.9 KB\n"
     ]
    }
   ],
   "source": [
    "# Checking again the dataframe\n",
    "df.info()"
   ]
  },
  {
   "cell_type": "markdown",
   "metadata": {},
   "source": [
    "Now all the values is filled. Its time to Spliting the data into train and test\n",
    "#### Splitting the dataset"
   ]
  },
  {
   "cell_type": "code",
   "execution_count": 11,
   "metadata": {},
   "outputs": [],
   "source": [
    "#importing train_test_split from sklearn\n",
    "from sklearn.model_selection import train_test_split"
   ]
  },
  {
   "cell_type": "code",
   "execution_count": 12,
   "metadata": {},
   "outputs": [
    {
     "name": "stdout",
     "output_type": "stream",
     "text": [
      "X: (891, 4)\n",
      "Y: (891,)\n"
     ]
    }
   ],
   "source": [
    "#dividing the data into independent(X) and dependent(Y) variable\n",
    "X=df[['Pclass', 'Sex', 'Age', 'Fare']]\n",
    "Y=df['Survived']\n",
    "\n",
    "#checking the shape\n",
    "print('X:',X.shape)\n",
    "print('Y:',Y.shape)"
   ]
  },
  {
   "cell_type": "code",
   "execution_count": 13,
   "metadata": {},
   "outputs": [],
   "source": [
    "#splitting into train and test\n",
    "X_train,X_test,Y_train,Y_test=train_test_split(X,Y,test_size=0.3,random_state=1)"
   ]
  },
  {
   "cell_type": "markdown",
   "metadata": {},
   "source": [
    "#### Training the model\n",
    "Now its time to train the model using Decision tree"
   ]
  },
  {
   "cell_type": "code",
   "execution_count": 14,
   "metadata": {},
   "outputs": [],
   "source": [
    "#importing decision tree module\n",
    "from sklearn.tree import DecisionTreeClassifier\n",
    "\n",
    "#creating an instance of the decision tree\n",
    "model=DecisionTreeClassifier(random_state=100)"
   ]
  },
  {
   "cell_type": "code",
   "execution_count": 15,
   "metadata": {},
   "outputs": [
    {
     "data": {
      "text/plain": [
       "DecisionTreeClassifier(random_state=100)"
      ]
     },
     "execution_count": 15,
     "metadata": {},
     "output_type": "execute_result"
    }
   ],
   "source": [
    "# fitting the train data into the model\n",
    "model.fit(X_train,Y_train)"
   ]
  },
  {
   "cell_type": "markdown",
   "metadata": {},
   "source": [
    "After fitting the training data into the model Now we will check the accuracy by comparing the true value with predicted value\n",
    "using accuracy score module of sklearn"
   ]
  },
  {
   "cell_type": "code",
   "execution_count": 16,
   "metadata": {},
   "outputs": [],
   "source": [
    "#importing necessary library \n",
    "from sklearn.metrics import accuracy_score"
   ]
  },
  {
   "cell_type": "code",
   "execution_count": 17,
   "metadata": {},
   "outputs": [
    {
     "name": "stdout",
     "output_type": "stream",
     "text": [
      "Accuracy on train data : 98.7158908507223\n"
     ]
    }
   ],
   "source": [
    "#Checking the accuracy on train data\n",
    "y_pred_train=model.predict(X_train)\n",
    "acc=accuracy_score(Y_train,y_pred_train)\n",
    "print('Accuracy on train data :',acc*100)"
   ]
  },
  {
   "cell_type": "code",
   "execution_count": 18,
   "metadata": {},
   "outputs": [
    {
     "name": "stdout",
     "output_type": "stream",
     "text": [
      "Accuracy on test data : 73.88059701492537\n"
     ]
    }
   ],
   "source": [
    "#Checking the accuracy on train data\n",
    "y_pred_test=model.predict(X_test)\n",
    "acc=accuracy_score(Y_test,y_pred_test)\n",
    "print('Accuracy on test data :',acc*100)"
   ]
  },
  {
   "cell_type": "markdown",
   "metadata": {},
   "source": [
    "So our model is giving 98 % accuracy on train data and 74 % accuracy on test data which is not bad\n",
    "\n",
    "Lets see the confusion matrix of the model"
   ]
  },
  {
   "cell_type": "code",
   "execution_count": 19,
   "metadata": {},
   "outputs": [
    {
     "name": "stdout",
     "output_type": "stream",
     "text": [
      "Confusion matrix of test data :\n",
      " [[126  27]\n",
      " [ 43  72]]\n"
     ]
    }
   ],
   "source": [
    "# importing confusion matrix from sklearn\n",
    "from sklearn.metrics import confusion_matrix\n",
    "cm=confusion_matrix(Y_test,y_pred_test)\n",
    "print('Confusion matrix of test data :\\n',cm)"
   ]
  },
  {
   "cell_type": "code",
   "execution_count": 20,
   "metadata": {},
   "outputs": [
    {
     "name": "stdout",
     "output_type": "stream",
     "text": [
      "Confusion matrix of train data :\n",
      " [[395   1]\n",
      " [  7 220]]\n"
     ]
    }
   ],
   "source": [
    "cm=confusion_matrix(Y_train,y_pred_train)\n",
    "print('Confusion matrix of train data :\\n',cm)"
   ]
  },
  {
   "cell_type": "code",
   "execution_count": 24,
   "metadata": {},
   "outputs": [
    {
     "data": {
      "text/plain": [
       "'|--- feature_1 <= 0.50\\n|   |--- feature_0 <= 2.50\\n|   |   |--- feature_2 <= 2.50\\n|   |   |   |--- feature_0 <= 1.50\\n|   |   |   |   |--- class: 0\\n|   |   |   |--- feature_0 >  1.50\\n|   |   |   |   |--- class: 1\\n|   |   |--- feature_2 >  2.50\\n|   |   |   |--- feature_3 <= 28.86\\n|   |   |   |   |--- feature_3 <= 28.23\\n|   |   |   |   |   |--- feature_2 <= 21.50\\n|   |   |   |   |   |   |--- class: 1\\n|   |   |   |   |   |--- feature_2 >  21.50\\n|   |   |   |   |   |   |--- feature_2 <= 26.50\\n|   |   |   |   |   |   |   |--- feature_2 <= 25.50\\n|   |   |   |   |   |   |   |   |--- feature_3 <= 19.50\\n|   |   |   |   |   |   |   |   |   |--- class: 0\\n|   |   |   |   |   |   |   |   |--- feature_3 >  19.50\\n|   |   |   |   |   |   |   |   |   |--- class: 1\\n|   |   |   |   |   |   |   |--- feature_2 >  25.50\\n|   |   |   |   |   |   |   |   |--- class: 0\\n|   |   |   |   |   |   |--- feature_2 >  26.50\\n|   |   |   |   |   |   |   |--- feature_2 <= 37.00\\n|   |   |   |   |   |   |   |   |--- class: 1\\n|   |   |   |   |   |   |   |--- feature_2 >  37.00\\n|   |   |   |   |   |   |   |   |--- feature_2 <= 39.00\\n|   |   |   |   |   |   |   |   |   |--- class: 0\\n|   |   |   |   |   |   |   |   |--- feature_2 >  39.00\\n|   |   |   |   |   |   |   |   |   |--- feature_2 <= 44.50\\n|   |   |   |   |   |   |   |   |   |   |--- feature_2 <= 43.00\\n|   |   |   |   |   |   |   |   |   |   |   |--- class: 1\\n|   |   |   |   |   |   |   |   |   |   |--- feature_2 >  43.00\\n|   |   |   |   |   |   |   |   |   |   |   |--- class: 0\\n|   |   |   |   |   |   |   |   |   |--- feature_2 >  44.50\\n|   |   |   |   |   |   |   |   |   |   |--- class: 1\\n|   |   |   |   |--- feature_3 >  28.23\\n|   |   |   |   |   |--- class: 0\\n|   |   |   |--- feature_3 >  28.86\\n|   |   |   |   |--- class: 1\\n|   |--- feature_0 >  2.50\\n|   |   |--- feature_3 <= 24.81\\n|   |   |   |--- feature_2 <= 28.50\\n|   |   |   |   |--- feature_3 <= 7.52\\n|   |   |   |   |   |--- class: 1\\n|   |   |   |   |--- feature_3 >  7.52\\n|   |   |   |   |   |--- feature_3 <= 7.68\\n|   |   |   |   |   |   |--- class: 0\\n|   |   |   |   |   |--- feature_3 >  7.68\\n|   |   |   |   |   |   |--- feature_2 <= 26.50\\n|   |   |   |   |   |   |   |--- feature_2 <= 19.50\\n|   |   |   |   |   |   |   |   |--- feature_3 <= 17.35\\n|   |   |   |   |   |   |   |   |   |--- feature_3 <= 7.87\\n|   |   |   |   |   |   |   |   |   |   |--- feature_3 <= 7.76\\n|   |   |   |   |   |   |   |   |   |   |   |--- class: 1\\n|   |   |   |   |   |   |   |   |   |   |--- feature_3 >  7.76\\n|   |   |   |   |   |   |   |   |   |   |   |--- truncated branch of depth 2\\n|   |   |   |   |   |   |   |   |   |--- feature_3 >  7.87\\n|   |   |   |   |   |   |   |   |   |   |--- feature_3 <= 13.94\\n|   |   |   |   |   |   |   |   |   |   |   |--- class: 1\\n|   |   |   |   |   |   |   |   |   |   |--- feature_3 >  13.94\\n|   |   |   |   |   |   |   |   |   |   |   |--- truncated branch of depth 2\\n|   |   |   |   |   |   |   |   |--- feature_3 >  17.35\\n|   |   |   |   |   |   |   |   |   |--- feature_2 <= 6.00\\n|   |   |   |   |   |   |   |   |   |   |--- feature_2 <= 1.88\\n|   |   |   |   |   |   |   |   |   |   |   |--- class: 1\\n|   |   |   |   |   |   |   |   |   |   |--- feature_2 >  1.88\\n|   |   |   |   |   |   |   |   |   |   |   |--- truncated branch of depth 2\\n|   |   |   |   |   |   |   |   |   |--- feature_2 >  6.00\\n|   |   |   |   |   |   |   |   |   |   |--- class: 0\\n|   |   |   |   |   |   |   |--- feature_2 >  19.50\\n|   |   |   |   |   |   |   |   |--- feature_3 <= 16.40\\n|   |   |   |   |   |   |   |   |   |--- feature_3 <= 7.89\\n|   |   |   |   |   |   |   |   |   |   |--- feature_3 <= 7.81\\n|   |   |   |   |   |   |   |   |   |   |   |--- truncated branch of depth 3\\n|   |   |   |   |   |   |   |   |   |   |--- feature_3 >  7.81\\n|   |   |   |   |   |   |   |   |   |   |   |--- class: 1\\n|   |   |   |   |   |   |   |   |   |--- feature_3 >  7.89\\n|   |   |   |   |   |   |   |   |   |   |--- class: 0\\n|   |   |   |   |   |   |   |   |--- feature_3 >  16.40\\n|   |   |   |   |   |   |   |   |   |--- class: 1\\n|   |   |   |   |   |   |--- feature_2 >  26.50\\n|   |   |   |   |   |   |   |--- feature_3 <= 15.37\\n|   |   |   |   |   |   |   |   |--- feature_3 <= 7.89\\n|   |   |   |   |   |   |   |   |   |--- feature_3 <= 7.77\\n|   |   |   |   |   |   |   |   |   |   |--- feature_3 <= 7.74\\n|   |   |   |   |   |   |   |   |   |   |   |--- class: 1\\n|   |   |   |   |   |   |   |   |   |   |--- feature_3 >  7.74\\n|   |   |   |   |   |   |   |   |   |   |   |--- class: 1\\n|   |   |   |   |   |   |   |   |   |--- feature_3 >  7.77\\n|   |   |   |   |   |   |   |   |   |   |--- class: 1\\n|   |   |   |   |   |   |   |   |--- feature_3 >  7.89\\n|   |   |   |   |   |   |   |   |   |--- feature_2 <= 27.50\\n|   |   |   |   |   |   |   |   |   |   |--- class: 1\\n|   |   |   |   |   |   |   |   |   |--- feature_2 >  27.50\\n|   |   |   |   |   |   |   |   |   |   |--- class: 0\\n|   |   |   |   |   |   |   |--- feature_3 >  15.37\\n|   |   |   |   |   |   |   |   |--- class: 1\\n|   |   |   |--- feature_2 >  28.50\\n|   |   |   |   |--- feature_2 <= 55.00\\n|   |   |   |   |   |--- feature_3 <= 11.47\\n|   |   |   |   |   |   |--- class: 0\\n|   |   |   |   |   |--- feature_3 >  11.47\\n|   |   |   |   |   |   |--- feature_2 <= 38.50\\n|   |   |   |   |   |   |   |--- feature_2 <= 33.50\\n|   |   |   |   |   |   |   |   |--- feature_3 <= 13.99\\n|   |   |   |   |   |   |   |   |   |--- class: 1\\n|   |   |   |   |   |   |   |   |--- feature_3 >  13.99\\n|   |   |   |   |   |   |   |   |   |--- feature_3 <= 19.26\\n|   |   |   |   |   |   |   |   |   |   |--- class: 0\\n|   |   |   |   |   |   |   |   |   |--- feature_3 >  19.26\\n|   |   |   |   |   |   |   |   |   |   |--- feature_3 <= 20.80\\n|   |   |   |   |   |   |   |   |   |   |   |--- class: 1\\n|   |   |   |   |   |   |   |   |   |   |--- feature_3 >  20.80\\n|   |   |   |   |   |   |   |   |   |   |   |--- class: 0\\n|   |   |   |   |   |   |   |--- feature_2 >  33.50\\n|   |   |   |   |   |   |   |   |--- class: 1\\n|   |   |   |   |   |   |--- feature_2 >  38.50\\n|   |   |   |   |   |   |   |--- class: 0\\n|   |   |   |   |--- feature_2 >  55.00\\n|   |   |   |   |   |--- class: 1\\n|   |   |--- feature_3 >  24.81\\n|   |   |   |--- feature_2 <= 33.00\\n|   |   |   |   |--- class: 0\\n|   |   |   |--- feature_2 >  33.00\\n|   |   |   |   |--- feature_2 <= 39.50\\n|   |   |   |   |   |--- class: 1\\n|   |   |   |   |--- feature_2 >  39.50\\n|   |   |   |   |   |--- class: 0\\n|--- feature_1 >  0.50\\n|   |--- feature_2 <= 11.50\\n|   |   |--- feature_0 <= 2.50\\n|   |   |   |--- class: 1\\n|   |   |--- feature_0 >  2.50\\n|   |   |   |--- feature_3 <= 20.83\\n|   |   |   |   |--- class: 1\\n|   |   |   |--- feature_3 >  20.83\\n|   |   |   |   |--- feature_2 <= 3.50\\n|   |   |   |   |   |--- feature_2 <= 2.50\\n|   |   |   |   |   |   |--- class: 0\\n|   |   |   |   |   |--- feature_2 >  2.50\\n|   |   |   |   |   |   |--- class: 1\\n|   |   |   |   |--- feature_2 >  3.50\\n|   |   |   |   |   |--- class: 0\\n|   |--- feature_2 >  11.50\\n|   |   |--- feature_0 <= 1.50\\n|   |   |   |--- feature_2 <= 30.00\\n|   |   |   |   |--- feature_3 <= 64.98\\n|   |   |   |   |   |--- feature_2 <= 27.50\\n|   |   |   |   |   |   |--- class: 1\\n|   |   |   |   |   |--- feature_2 >  27.50\\n|   |   |   |   |   |   |--- feature_3 <= 28.71\\n|   |   |   |   |   |   |   |--- class: 0\\n|   |   |   |   |   |   |--- feature_3 >  28.71\\n|   |   |   |   |   |   |   |--- feature_3 <= 29.85\\n|   |   |   |   |   |   |   |   |--- class: 1\\n|   |   |   |   |   |   |   |--- feature_3 >  29.85\\n|   |   |   |   |   |   |   |   |--- feature_3 <= 35.25\\n|   |   |   |   |   |   |   |   |   |--- class: 0\\n|   |   |   |   |   |   |   |   |--- feature_3 >  35.25\\n|   |   |   |   |   |   |   |   |   |--- feature_3 <= 38.95\\n|   |   |   |   |   |   |   |   |   |   |--- class: 1\\n|   |   |   |   |   |   |   |   |   |--- feature_3 >  38.95\\n|   |   |   |   |   |   |   |   |   |   |--- class: 0\\n|   |   |   |   |--- feature_3 >  64.98\\n|   |   |   |   |   |--- class: 0\\n|   |   |   |--- feature_2 >  30.00\\n|   |   |   |   |--- feature_2 <= 36.50\\n|   |   |   |   |   |--- feature_3 <= 15.64\\n|   |   |   |   |   |   |--- class: 0\\n|   |   |   |   |   |--- feature_3 >  15.64\\n|   |   |   |   |   |   |--- feature_3 <= 35.31\\n|   |   |   |   |   |   |   |--- class: 1\\n|   |   |   |   |   |   |--- feature_3 >  35.31\\n|   |   |   |   |   |   |   |--- feature_3 <= 53.75\\n|   |   |   |   |   |   |   |   |--- class: 0\\n|   |   |   |   |   |   |   |--- feature_3 >  53.75\\n|   |   |   |   |   |   |   |   |--- class: 1\\n|   |   |   |   |--- feature_2 >  36.50\\n|   |   |   |   |   |--- feature_2 <= 75.50\\n|   |   |   |   |   |   |--- feature_2 <= 60.50\\n|   |   |   |   |   |   |   |--- feature_2 <= 39.50\\n|   |   |   |   |   |   |   |   |--- class: 0\\n|   |   |   |   |   |   |   |--- feature_2 >  39.50\\n|   |   |   |   |   |   |   |   |--- feature_3 <= 122.27\\n|   |   |   |   |   |   |   |   |   |--- feature_3 <= 81.34\\n|   |   |   |   |   |   |   |   |   |   |--- feature_3 <= 78.24\\n|   |   |   |   |   |   |   |   |   |   |   |--- truncated branch of depth 6\\n|   |   |   |   |   |   |   |   |   |   |--- feature_3 >  78.24\\n|   |   |   |   |   |   |   |   |   |   |   |--- class: 1\\n|   |   |   |   |   |   |   |   |   |--- feature_3 >  81.34\\n|   |   |   |   |   |   |   |   |   |   |--- class: 0\\n|   |   |   |   |   |   |   |   |--- feature_3 >  122.27\\n|   |   |   |   |   |   |   |   |   |--- class: 1\\n|   |   |   |   |   |   |--- feature_2 >  60.50\\n|   |   |   |   |   |   |   |--- class: 0\\n|   |   |   |   |   |--- feature_2 >  75.50\\n|   |   |   |   |   |   |--- class: 1\\n|   |   |--- feature_0 >  1.50\\n|   |   |   |--- feature_3 <= 15.37\\n|   |   |   |   |--- feature_3 <= 15.17\\n|   |   |   |   |   |--- feature_2 <= 45.25\\n|   |   |   |   |   |   |--- feature_2 <= 44.50\\n|   |   |   |   |   |   |   |--- feature_2 <= 28.50\\n|   |   |   |   |   |   |   |   |--- feature_3 <= 7.24\\n|   |   |   |   |   |   |   |   |   |--- feature_2 <= 27.50\\n|   |   |   |   |   |   |   |   |   |   |--- feature_2 <= 26.00\\n|   |   |   |   |   |   |   |   |   |   |   |--- truncated branch of depth 5\\n|   |   |   |   |   |   |   |   |   |   |--- feature_2 >  26.00\\n|   |   |   |   |   |   |   |   |   |   |   |--- class: 1\\n|   |   |   |   |   |   |   |   |   |--- feature_2 >  27.50\\n|   |   |   |   |   |   |   |   |   |   |--- feature_3 <= 7.23\\n|   |   |   |   |   |   |   |   |   |   |   |--- class: 0\\n|   |   |   |   |   |   |   |   |   |   |--- feature_3 >  7.23\\n|   |   |   |   |   |   |   |   |   |   |   |--- class: 0\\n|   |   |   |   |   |   |   |   |--- feature_3 >  7.24\\n|   |   |   |   |   |   |   |   |   |--- feature_2 <= 20.25\\n|   |   |   |   |   |   |   |   |   |   |--- feature_3 <= 7.91\\n|   |   |   |   |   |   |   |   |   |   |   |--- class: 0\\n|   |   |   |   |   |   |   |   |   |   |--- feature_3 >  7.91\\n|   |   |   |   |   |   |   |   |   |   |   |--- truncated branch of depth 5\\n|   |   |   |   |   |   |   |   |   |--- feature_2 >  20.25\\n|   |   |   |   |   |   |   |   |   |   |--- feature_3 <= 13.68\\n|   |   |   |   |   |   |   |   |   |   |   |--- truncated branch of depth 6\\n|   |   |   |   |   |   |   |   |   |   |--- feature_3 >  13.68\\n|   |   |   |   |   |   |   |   |   |   |   |--- truncated branch of depth 2\\n|   |   |   |   |   |   |   |--- feature_2 >  28.50\\n|   |   |   |   |   |   |   |   |--- feature_3 <= 7.81\\n|   |   |   |   |   |   |   |   |   |--- class: 0\\n|   |   |   |   |   |   |   |   |--- feature_3 >  7.81\\n|   |   |   |   |   |   |   |   |   |--- feature_3 <= 7.88\\n|   |   |   |   |   |   |   |   |   |   |--- class: 1\\n|   |   |   |   |   |   |   |   |   |--- feature_3 >  7.88\\n|   |   |   |   |   |   |   |   |   |   |--- feature_2 <= 29.50\\n|   |   |   |   |   |   |   |   |   |   |   |--- class: 1\\n|   |   |   |   |   |   |   |   |   |   |--- feature_2 >  29.50\\n|   |   |   |   |   |   |   |   |   |   |   |--- truncated branch of depth 7\\n|   |   |   |   |   |   |--- feature_2 >  44.50\\n|   |   |   |   |   |   |   |--- feature_3 <= 7.51\\n|   |   |   |   |   |   |   |   |--- class: 0\\n|   |   |   |   |   |   |   |--- feature_3 >  7.51\\n|   |   |   |   |   |   |   |   |--- class: 1\\n|   |   |   |   |   |--- feature_2 >  45.25\\n|   |   |   |   |   |   |--- class: 0\\n|   |   |   |   |--- feature_3 >  15.17\\n|   |   |   |   |   |--- class: 1\\n|   |   |   |--- feature_3 >  15.37\\n|   |   |   |   |--- feature_3 <= 51.70\\n|   |   |   |   |   |--- class: 0\\n|   |   |   |   |--- feature_3 >  51.70\\n|   |   |   |   |   |--- feature_2 <= 30.00\\n|   |   |   |   |   |   |--- class: 0\\n|   |   |   |   |   |--- feature_2 >  30.00\\n|   |   |   |   |   |   |--- feature_0 <= 2.50\\n|   |   |   |   |   |   |   |--- class: 0\\n|   |   |   |   |   |   |--- feature_0 >  2.50\\n|   |   |   |   |   |   |   |--- class: 1\\n'"
      ]
     },
     "execution_count": 24,
     "metadata": {},
     "output_type": "execute_result"
    }
   ],
   "source": [
    "#Tree plotting \n",
    "from sklearn import tree\n",
    "\n",
    "tree."
   ]
  },
  {
   "cell_type": "markdown",
   "metadata": {},
   "source": [
    "#### Validating the data\n",
    "We can validate the data by giving it a new input and check whether the model is predicted correct or not"
   ]
  },
  {
   "cell_type": "code",
   "execution_count": null,
   "metadata": {},
   "outputs": [],
   "source": [
    "#giving input (taking a random value from the dataset)\n",
    "input=(1,0,38,71.2833)\n",
    "\n",
    "# converting the input into numpy array \n",
    "inp_array=np.asarray(input)\n",
    "\n",
    "#checking the shape of the input\n",
    "print(inp_array.shape)"
   ]
  },
  {
   "cell_type": "code",
   "execution_count": null,
   "metadata": {},
   "outputs": [],
   "source": [
    "#converting the input into 2d array\n",
    "inp_reshape=inp_array.reshape(1,-1)\n",
    "\n",
    "#checking the shape of the array\n",
    "print(inp_reshape.shape)"
   ]
  },
  {
   "cell_type": "code",
   "execution_count": null,
   "metadata": {},
   "outputs": [],
   "source": [
    "#predicting the output\n",
    "output=model.predict(inp_reshape)\n",
    "if output==1:\n",
    "    print('Survived')\n",
    "else:\n",
    "    print('Not Survived')"
   ]
  },
  {
   "cell_type": "markdown",
   "metadata": {},
   "source": [
    "So our model is predicted correct output (I have taken 2nd row of the dataset as an input)\n",
    "\n",
    "## Thank You"
   ]
  }
 ],
 "metadata": {
  "kernelspec": {
   "display_name": "Python 3",
   "language": "python",
   "name": "python3"
  },
  "language_info": {
   "codemirror_mode": {
    "name": "ipython",
    "version": 3
   },
   "file_extension": ".py",
   "mimetype": "text/x-python",
   "name": "python",
   "nbconvert_exporter": "python",
   "pygments_lexer": "ipython3",
   "version": "3.8.5"
  }
 },
 "nbformat": 4,
 "nbformat_minor": 4
}
