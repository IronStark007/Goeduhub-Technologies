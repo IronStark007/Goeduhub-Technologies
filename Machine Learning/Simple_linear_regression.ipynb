{
  "cells": [
    {
      "metadata": {},
      "cell_type": "markdown",
      "source": "#### Auto Insurance in Sweden\n\nIn the following data\nX = number of claims\nY = total payment for all the claims in thousands of Swedish Kronor\nfor geographical zones in Sweden\nReference: Swedish Committee on Analysis of Risk Premium in Motor Insurance\n\nFor dataset:<a href=\"https://college.cengage.com/mathematics/brase/understandable_statistics/7e/students/datasets/slr/excel/slr06.xls\">Click here</a>"
    },
    {
      "metadata": {
        "trusted": true
      },
      "cell_type": "code",
      "source": "# importing pandas and numpy for reading dataset and do some analaysis\nimport pandas as pd\nimport numpy as np",
      "execution_count": 1,
      "outputs": []
    },
    {
      "metadata": {
        "trusted": true
      },
      "cell_type": "code",
      "source": "# loading dataset using pandas\ndf = pd.read_excel(r'C:/Users/ansar/Downloads/slr06.xls')\n\n# reading first five rows of the dataset\ndf.head()",
      "execution_count": 2,
      "outputs": [
        {
          "output_type": "stream",
          "text": "*** No CODEPAGE record, no encoding_override: will use 'ascii'\n",
          "name": "stdout"
        },
        {
          "output_type": "execute_result",
          "execution_count": 2,
          "data": {
            "text/plain": "     X      Y\n0  108  392.5\n1   19   46.2\n2   13   15.7\n3  124  422.2\n4   40  119.4",
            "text/html": "<div>\n<style scoped>\n    .dataframe tbody tr th:only-of-type {\n        vertical-align: middle;\n    }\n\n    .dataframe tbody tr th {\n        vertical-align: top;\n    }\n\n    .dataframe thead th {\n        text-align: right;\n    }\n</style>\n<table border=\"1\" class=\"dataframe\">\n  <thead>\n    <tr style=\"text-align: right;\">\n      <th></th>\n      <th>X</th>\n      <th>Y</th>\n    </tr>\n  </thead>\n  <tbody>\n    <tr>\n      <th>0</th>\n      <td>108</td>\n      <td>392.5</td>\n    </tr>\n    <tr>\n      <th>1</th>\n      <td>19</td>\n      <td>46.2</td>\n    </tr>\n    <tr>\n      <th>2</th>\n      <td>13</td>\n      <td>15.7</td>\n    </tr>\n    <tr>\n      <th>3</th>\n      <td>124</td>\n      <td>422.2</td>\n    </tr>\n    <tr>\n      <th>4</th>\n      <td>40</td>\n      <td>119.4</td>\n    </tr>\n  </tbody>\n</table>\n</div>"
          },
          "metadata": {}
        }
      ]
    },
    {
      "metadata": {
        "trusted": true
      },
      "cell_type": "code",
      "source": "#Changing the names of columns\ndf.columns=['number of claims','total payment ']",
      "execution_count": 3,
      "outputs": []
    },
    {
      "metadata": {
        "trusted": true
      },
      "cell_type": "code",
      "source": "#checking the changes done\ndf.head()",
      "execution_count": 4,
      "outputs": [
        {
          "output_type": "execute_result",
          "execution_count": 4,
          "data": {
            "text/plain": "   number of claims  total payment \n0               108           392.5\n1                19            46.2\n2                13            15.7\n3               124           422.2\n4                40           119.4",
            "text/html": "<div>\n<style scoped>\n    .dataframe tbody tr th:only-of-type {\n        vertical-align: middle;\n    }\n\n    .dataframe tbody tr th {\n        vertical-align: top;\n    }\n\n    .dataframe thead th {\n        text-align: right;\n    }\n</style>\n<table border=\"1\" class=\"dataframe\">\n  <thead>\n    <tr style=\"text-align: right;\">\n      <th></th>\n      <th>number of claims</th>\n      <th>total payment</th>\n    </tr>\n  </thead>\n  <tbody>\n    <tr>\n      <th>0</th>\n      <td>108</td>\n      <td>392.5</td>\n    </tr>\n    <tr>\n      <th>1</th>\n      <td>19</td>\n      <td>46.2</td>\n    </tr>\n    <tr>\n      <th>2</th>\n      <td>13</td>\n      <td>15.7</td>\n    </tr>\n    <tr>\n      <th>3</th>\n      <td>124</td>\n      <td>422.2</td>\n    </tr>\n    <tr>\n      <th>4</th>\n      <td>40</td>\n      <td>119.4</td>\n    </tr>\n  </tbody>\n</table>\n</div>"
          },
          "metadata": {}
        }
      ]
    },
    {
      "metadata": {
        "trusted": true
      },
      "cell_type": "code",
      "source": "#checking the shape of data\ndf.shape",
      "execution_count": 5,
      "outputs": [
        {
          "output_type": "execute_result",
          "execution_count": 5,
          "data": {
            "text/plain": "(63, 2)"
          },
          "metadata": {}
        }
      ]
    },
    {
      "metadata": {},
      "cell_type": "markdown",
      "source": "The dataset contains 63 rows and 2 columns"
    },
    {
      "metadata": {
        "trusted": true
      },
      "cell_type": "code",
      "source": "#seeing the statistics\ndf.describe()",
      "execution_count": 6,
      "outputs": [
        {
          "output_type": "execute_result",
          "execution_count": 6,
          "data": {
            "text/plain": "       number of claims  total payment \ncount         63.000000       63.000000\nmean          22.904762       98.187302\nstd           23.351946       87.327553\nmin            0.000000        0.000000\n25%            7.500000       38.850000\n50%           14.000000       73.400000\n75%           29.000000      140.000000\nmax          124.000000      422.200000",
            "text/html": "<div>\n<style scoped>\n    .dataframe tbody tr th:only-of-type {\n        vertical-align: middle;\n    }\n\n    .dataframe tbody tr th {\n        vertical-align: top;\n    }\n\n    .dataframe thead th {\n        text-align: right;\n    }\n</style>\n<table border=\"1\" class=\"dataframe\">\n  <thead>\n    <tr style=\"text-align: right;\">\n      <th></th>\n      <th>number of claims</th>\n      <th>total payment</th>\n    </tr>\n  </thead>\n  <tbody>\n    <tr>\n      <th>count</th>\n      <td>63.000000</td>\n      <td>63.000000</td>\n    </tr>\n    <tr>\n      <th>mean</th>\n      <td>22.904762</td>\n      <td>98.187302</td>\n    </tr>\n    <tr>\n      <th>std</th>\n      <td>23.351946</td>\n      <td>87.327553</td>\n    </tr>\n    <tr>\n      <th>min</th>\n      <td>0.000000</td>\n      <td>0.000000</td>\n    </tr>\n    <tr>\n      <th>25%</th>\n      <td>7.500000</td>\n      <td>38.850000</td>\n    </tr>\n    <tr>\n      <th>50%</th>\n      <td>14.000000</td>\n      <td>73.400000</td>\n    </tr>\n    <tr>\n      <th>75%</th>\n      <td>29.000000</td>\n      <td>140.000000</td>\n    </tr>\n    <tr>\n      <th>max</th>\n      <td>124.000000</td>\n      <td>422.200000</td>\n    </tr>\n  </tbody>\n</table>\n</div>"
          },
          "metadata": {}
        }
      ]
    },
    {
      "metadata": {
        "trusted": true
      },
      "cell_type": "code",
      "source": "# assinging X and Y variable for splitting\nX=df['number of claims'].values.reshape(-1, 1) #reshaping since model can be fitted only to 2D array\nY=df['total payment ']",
      "execution_count": 7,
      "outputs": []
    },
    {
      "metadata": {
        "trusted": true
      },
      "cell_type": "code",
      "source": "#visualizing the data\nimport matplotlib.pyplot as plt\nplt.figure(figsize=(6,6))\nplt.scatter(X,Y,marker='+',alpha=0.8,s=50)\nplt.xlabel('Number of claims',fontsize=12)\nplt.ylabel('Total payments',fontsize=12)\nplt.title('Claim vs payments',fontsize=15)\nplt.show();",
      "execution_count": 8,
      "outputs": [
        {
          "output_type": "display_data",
          "data": {
            "text/plain": "<Figure size 432x432 with 1 Axes>",
            "image/png": "[encoded data removed]"
          },
          "metadata": {
            "needs_background": "light"
          }
        }
      ]
    },
    {
      "metadata": {},
      "cell_type": "markdown",
      "source": "It is easily seen by the visulization that the X and Y variable has a linear relationship between them.\n\n#### Splitting the dataset into train-test"
    },
    {
      "metadata": {
        "trusted": true
      },
      "cell_type": "code",
      "source": "# splitting data using train_test_split module of sklearn\nfrom sklearn.model_selection import train_test_split\nX_train,X_test,Y_train,Y_test=train_test_split(X,Y,test_size=0.2,random_state=1)\n",
      "execution_count": 9,
      "outputs": []
    },
    {
      "metadata": {},
      "cell_type": "markdown",
      "source": "#### Training the model"
    },
    {
      "metadata": {
        "trusted": true
      },
      "cell_type": "code",
      "source": "#loading linear regression from sklearn\nfrom sklearn.linear_model import LinearRegression\n\n#initialising the linear regression\nmodel = LinearRegression()",
      "execution_count": 10,
      "outputs": []
    },
    {
      "metadata": {
        "trusted": true
      },
      "cell_type": "code",
      "source": "# fitting the train data into model\nmodel.fit(X_train,Y_train)",
      "execution_count": 11,
      "outputs": [
        {
          "output_type": "execute_result",
          "execution_count": 11,
          "data": {
            "text/plain": "LinearRegression()"
          },
          "metadata": {}
        }
      ]
    },
    {
      "metadata": {
        "trusted": true
      },
      "cell_type": "code",
      "source": "#Checking the model prediction\nmodel.predict([[19]])",
      "execution_count": 12,
      "outputs": [
        {
          "output_type": "execute_result",
          "execution_count": 12,
          "data": {
            "text/plain": "array([86.98894667])"
          },
          "metadata": {}
        }
      ]
    },
    {
      "metadata": {
        "trusted": true
      },
      "cell_type": "code",
      "source": "#checking the accuracy score\nmodel.score(X_test,Y_test)",
      "execution_count": 13,
      "outputs": [
        {
          "output_type": "execute_result",
          "execution_count": 13,
          "data": {
            "text/plain": "0.8353803474247439"
          },
          "metadata": {}
        }
      ]
    },
    {
      "metadata": {},
      "cell_type": "markdown",
      "source": "So our model is showing 83% accuracy which is good."
    },
    {
      "metadata": {
        "trusted": true
      },
      "cell_type": "code",
      "source": "# printing coefficient and intercept\nprint('Coefficient:',model.coef_)\nprint('Intercept:',model.intercept_)",
      "execution_count": 14,
      "outputs": [
        {
          "output_type": "stream",
          "text": "Coefficient: [3.40488745]\nIntercept: 22.296085203742095\n",
          "name": "stdout"
        }
      ]
    },
    {
      "metadata": {
        "trusted": true
      },
      "cell_type": "code",
      "source": "# checking prediction on train and test\ny_pred_train=model.predict(X_train)\ny_pred_test=model.predict(X_test)\n\nprint(y_pred_train)\nprint(y_pred_test)",
      "execution_count": 15,
      "outputs": [
        {
          "output_type": "stream",
          "text": "[ 35.91563499 124.44270857  49.53518477 444.50212844  66.559622\n 229.99421938  39.32052243 121.03782112 100.60849645  97.203609\n 127.84759601  42.72540988  49.53518477  66.559622   114.22804623\n  39.32052243  80.17917178 107.41827134  52.94007221 100.60849645\n  52.94007221  42.72540988  22.2960852   32.51074754  32.51074754\n 158.49158302  46.13029732  35.91563499  46.13029732 104.0133839\n  59.7498471   32.51074754 110.82315879  42.72540988  46.13029732\n 100.60849645 161.89647047  69.96450944  69.96450944  86.98894667\n 104.0133839  390.02392932  29.10586009 216.3746696  185.73068259\n  56.34495966 175.51602025  59.7498471  148.27692069  63.15473455]\n[121.03782112  76.77428433  66.559622    90.39383411 202.75511981\n  66.559622    52.94007221 161.89647047 226.58933193 209.56489471\n  35.91563499  73.36939689  59.7498471 ]\n",
          "name": "stdout"
        }
      ]
    },
    {
      "metadata": {
        "trusted": true
      },
      "cell_type": "code",
      "source": "# visualizing the training data\nplt.scatter(X_train,Y_train,marker='+',s=50,color='blue')\nplt.plot(X_train,y_pred_train,color='red')\nplt.xlabel('Number of claims',fontsize=12)\nplt.ylabel('Total payments',fontsize=12)\nplt.title('Training data',fontsize=15)\nplt.show();",
      "execution_count": 16,
      "outputs": [
        {
          "output_type": "display_data",
          "data": {
            "text/plain": "<Figure size 432x288 with 1 Axes>",
            "image/png": "[encoded data removed]"
          },
          "metadata": {
            "needs_background": "light"
          }
        }
      ]
    },
    {
      "metadata": {
        "trusted": true
      },
      "cell_type": "code",
      "source": "# visualizing the training data\nplt.scatter(X_test,Y_test,marker='+',s=50)\nplt.plot(X_test,y_pred_test,color='orange')\nplt.xlabel('Number of claims',fontsize=12)\nplt.ylabel('Total payments',fontsize=12)\nplt.title('Test data',fontsize=15)\nplt.show();",
      "execution_count": 17,
      "outputs": [
        {
          "output_type": "display_data",
          "data": {
            "text/plain": "<Figure size 432x288 with 1 Axes>",
            "image/png": "[encoded data removed]"
          },
          "metadata": {
            "needs_background": "light"
          }
        }
      ]
    }
  ],
  "metadata": {
    "kernelspec": {
      "name": "python3",
      "display_name": "Python 3",
      "language": "python"
    },
    "language_info": {
      "name": "python",
      "version": "3.8.5",
      "mimetype": "text/x-python",
      "codemirror_mode": {
        "name": "ipython",
        "version": 3
      },
      "pygments_lexer": "ipython3",
      "nbconvert_exporter": "python",
      "file_extension": ".py"
    },
    "gist": {
      "id": "b4137f613ae36ca833ec4ff906516630",
      "data": {
        "description": "Task-1 of ML Goeduhub Technologies",
        "public": true
      }
    },
    "_draft": {
      "nbviewer_url": "https://gist.github.com/b4137f613ae36ca833ec4ff906516630"
    }
  },
  "nbformat": 4,
  "nbformat_minor": 4
}
